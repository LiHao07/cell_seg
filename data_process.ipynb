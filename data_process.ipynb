{
 "cells": [
  {
   "cell_type": "code",
   "execution_count": 3,
   "metadata": {},
   "outputs": [],
   "source": [
    "import sys\n",
    "sys.path.append('/Users/lihao/miniconda3/lib/python3.6/site-packages')\n",
    "import numpy as np\n",
    "from scipy import misc\n",
    "from PIL import Image\n",
    "from libtiff import TIFF \n",
    "from matplotlib import pyplot as plt\n",
    "import cv2\n",
    "import os\n",
    "%matplotlib inline"
   ]
  },
  {
   "cell_type": "code",
   "execution_count": 16,
   "metadata": {},
   "outputs": [],
   "source": [
    "dir_mask = 'data/train_masks/'\n",
    "for im in os.listdir(dir_mask):\n",
    "    img = cv2.imread(dir_mask+im, 0)\n",
    "    for i in range(512):\n",
    "        for j in range(512):\n",
    "            if(img[i][j]>0):\n",
    "                img[i][j] = 1\n",
    "    img = cv2.imwrite('data/masks/'+im, img)\n"
   ]
  },
  {
   "cell_type": "code",
   "execution_count": null,
   "metadata": {},
   "outputs": [],
   "source": []
  }
 ],
 "metadata": {
  "kernelspec": {
   "display_name": "Python 3",
   "language": "python",
   "name": "python3"
  },
  "language_info": {
   "codemirror_mode": {
    "name": "ipython",
    "version": 3
   },
   "file_extension": ".py",
   "mimetype": "text/x-python",
   "name": "python",
   "nbconvert_exporter": "python",
   "pygments_lexer": "ipython3",
   "version": "3.6.0"
  }
 },
 "nbformat": 4,
 "nbformat_minor": 2
}
